{
 "cells": [
  {
   "cell_type": "code",
   "execution_count": null,
   "id": "athletic-official",
   "metadata": {},
   "outputs": [],
   "source": []
  },
  {
   "cell_type": "markdown",
   "id": "nuclear-beast",
   "metadata": {},
   "source": [
    "### Taking average of each bundle for dki_md"
   ]
  },
  {
   "cell_type": "code",
   "execution_count": 3,
   "id": "vietnamese-bridge",
   "metadata": {},
   "outputs": [],
   "source": [
    "import afqinsight as ai \n",
    "import numpy as np\n",
    "import matplotlib.pyplot as plt\n",
    "import pandas as pd\n"
   ]
  },
  {
   "cell_type": "code",
   "execution_count": 6,
   "id": "liberal-privacy",
   "metadata": {},
   "outputs": [],
   "source": [
    "from numpy import nanmean"
   ]
  },
  {
   "cell_type": "code",
   "execution_count": 7,
   "id": "opening-catch",
   "metadata": {},
   "outputs": [],
   "source": [
    "nodes = pd.read_csv('combined_tract_profiles.csv')"
   ]
  },
  {
   "cell_type": "code",
   "execution_count": 11,
   "id": "comic-advertiser",
   "metadata": {},
   "outputs": [],
   "source": [
    "buddles = sorted(list(set(nodes[\"tractID\"])))"
   ]
  },
  {
   "cell_type": "code",
   "execution_count": 8,
   "id": "floppy-apartment",
   "metadata": {},
   "outputs": [],
   "source": [
    "node_avg = nodes.groupby(['tractID', 'subjectID']).agg(nanmean)"
   ]
  },
  {
   "cell_type": "code",
   "execution_count": 9,
   "id": "owned-vampire",
   "metadata": {},
   "outputs": [],
   "source": [
    "dki_md = pd.merge(node_avg.loc[\"ARC_L\", :], node_avg.loc[\"ARC_R\", :], on=\"subjectID\", how=\"outer\")[[\"dki_md_x\", \"dki_md_y\"]]"
   ]
  },
  {
   "cell_type": "code",
   "execution_count": 10,
   "id": "gross-option",
   "metadata": {},
   "outputs": [],
   "source": [
    "dki_md = dki_md.rename(columns={\"dki_md_x\": \"ARC_L\", \"dki_md_y\": \"ARC_R\"})"
   ]
  },
  {
   "cell_type": "code",
   "execution_count": 13,
   "id": "premium-architect",
   "metadata": {},
   "outputs": [],
   "source": [
    "for bundle in buddles[2:]:\n",
    "    dki_md = pd.merge(dki_md, node_avg.loc[bundle, \"dki_md\"], on=\"subjectID\", how=\"outer\").rename(columns={\"dki_md\": bundle})"
   ]
  },
  {
   "cell_type": "code",
   "execution_count": 14,
   "id": "played-individual",
   "metadata": {},
   "outputs": [],
   "source": [
    "df = pd.read_csv('participant_data.tsv', sep = '\\t')"
   ]
  },
  {
   "cell_type": "code",
   "execution_count": 15,
   "id": "explicit-delight",
   "metadata": {},
   "outputs": [],
   "source": [
    "all_data = pd.merge(dki_md, df, left_on=\"subjectID\", right_on=\"Observations\", how=\"outer\")"
   ]
  },
  {
   "cell_type": "code",
   "execution_count": 17,
   "id": "visible-thanksgiving",
   "metadata": {},
   "outputs": [],
   "source": [
    "from sklearn.impute import SimpleImputer\n",
    "imputer = SimpleImputer()\n",
    "dki_md_imp = imputer.fit_transform(dki_md)"
   ]
  },
  {
   "cell_type": "code",
   "execution_count": null,
   "id": "secret-charge",
   "metadata": {},
   "outputs": [],
   "source": []
  },
  {
   "cell_type": "markdown",
   "id": "challenging-howard",
   "metadata": {},
   "source": [
    "### NMF with 2 components"
   ]
  },
  {
   "cell_type": "code",
   "execution_count": 21,
   "id": "alone-contrary",
   "metadata": {},
   "outputs": [
    {
     "name": "stderr",
     "output_type": "stream",
     "text": [
      "/srv/conda/envs/notebook/lib/python3.7/site-packages/sklearn/decomposition/_nmf.py:1077: ConvergenceWarning: Maximum number of iterations 200 reached. Increase it to improve convergence.\n",
      "  \" improve convergence.\" % max_iter, ConvergenceWarning)\n"
     ]
    }
   ],
   "source": [
    "from sklearn.decomposition import NMF\n",
    "model = NMF(n_components=2, init='random', random_state=0)\n",
    "W = model.fit_transform(dki_md_imp)\n",
    "H = model.components_"
   ]
  },
  {
   "cell_type": "markdown",
   "id": "alike-florence",
   "metadata": {},
   "source": [
    "### PCA with 2 components"
   ]
  },
  {
   "cell_type": "code",
   "execution_count": 22,
   "id": "assisted-mining",
   "metadata": {},
   "outputs": [],
   "source": [
    "from sklearn.decomposition import PCA\n",
    "from sklearn.preprocessing import StandardScaler\n",
    "#scaler = StandardScaler()\n",
    "pca_2 = PCA(n_components=2)\n",
    "#dki_fa_imp_nor = scaler.fit_transform(dki_fa_imp)\n",
    "x_2 = pca_2.fit_transform(dki_md_imp)"
   ]
  },
  {
   "cell_type": "code",
   "execution_count": 23,
   "id": "devoted-harvey",
   "metadata": {},
   "outputs": [],
   "source": [
    "c = pca_2.components_"
   ]
  },
  {
   "cell_type": "code",
   "execution_count": 24,
   "id": "living-methodology",
   "metadata": {},
   "outputs": [
    {
     "data": {
      "text/plain": [
       "Text(0.5, 1.0, '')"
      ]
     },
     "execution_count": 24,
     "metadata": {},
     "output_type": "execute_result"
    },
    {
     "data": {
      "image/png": "[encoded data removed]",
      "text/plain": [
       "<Figure size 432x288 with 1 Axes>"
      ]
     },
     "metadata": {
      "needs_background": "light"
     },
     "output_type": "display_data"
    }
   ],
   "source": [
    "loss_nmf_2 = []\n",
    "loss_pca_2 = []\n",
    "for i in range(641):\n",
    "    loss_nmf_2.append(np.sqrt(np.mean(((W[i, :]@H)-dki_md_imp[i, :])**2)))\n",
    "    loss_pca_2.append(np.sqrt(np.mean(((x_2[i, :]@c)-dki_md_imp[i, :])**2)))\n",
    "fig1, ax1 = plt.subplots()\n",
    "ax1.scatter(loss_nmf_2, loss_pca_2)\n",
    "\n",
    "ax1.title\n",
    "# compare loss b/w nmp & pca, scatterplot loss of these two"
   ]
  },
  {
   "cell_type": "code",
   "execution_count": null,
   "id": "brief-persian",
   "metadata": {},
   "outputs": [],
   "source": []
  },
  {
   "cell_type": "markdown",
   "id": "american-american",
   "metadata": {},
   "source": [
    "### NMF with 3 components"
   ]
  },
  {
   "cell_type": "code",
   "execution_count": 25,
   "id": "korean-struggle",
   "metadata": {},
   "outputs": [
    {
     "name": "stderr",
     "output_type": "stream",
     "text": [
      "/srv/conda/envs/notebook/lib/python3.7/site-packages/sklearn/decomposition/_nmf.py:1077: ConvergenceWarning: Maximum number of iterations 200 reached. Increase it to improve convergence.\n",
      "  \" improve convergence.\" % max_iter, ConvergenceWarning)\n"
     ]
    }
   ],
   "source": [
    "from sklearn.decomposition import NMF\n",
    "model_3 = NMF(n_components=3, init='random', random_state=0)\n",
    "W_3 = model_3.fit_transform(dki_md_imp)\n",
    "H_3 = model_3.components_"
   ]
  },
  {
   "cell_type": "markdown",
   "id": "signed-sandwich",
   "metadata": {},
   "source": [
    "### PCA with 3 components"
   ]
  },
  {
   "cell_type": "code",
   "execution_count": 26,
   "id": "accessory-sunglasses",
   "metadata": {},
   "outputs": [],
   "source": [
    "\n",
    "#scaler = StandardScaler()\n",
    "pca_3 = PCA(n_components=2)\n",
    "#dki_fa_imp_nor = scaler.fit_transform(dki_fa_imp)\n",
    "x_3 = pca_3.fit_transform(dki_md_imp)"
   ]
  },
  {
   "cell_type": "code",
   "execution_count": 27,
   "id": "improving-identifier",
   "metadata": {},
   "outputs": [],
   "source": [
    "c_3 = pca_3.components_"
   ]
  },
  {
   "cell_type": "code",
   "execution_count": 29,
   "id": "vocal-blood",
   "metadata": {},
   "outputs": [
    {
     "ename": "TypeError",
     "evalue": "'Text' object is not callable",
     "output_type": "error",
     "traceback": [
      "\u001b[0;31m---------------------------------------------------------------------------\u001b[0m",
      "\u001b[0;31mTypeError\u001b[0m                                 Traceback (most recent call last)",
      "\u001b[0;32m<ipython-input-29-da29b3c6a186>\u001b[0m in \u001b[0;36m<module>\u001b[0;34m\u001b[0m\n\u001b[1;32m      7\u001b[0m \u001b[0max2\u001b[0m\u001b[0;34m.\u001b[0m\u001b[0mscatter\u001b[0m\u001b[0;34m(\u001b[0m\u001b[0mloss_nmf_3\u001b[0m\u001b[0;34m,\u001b[0m \u001b[0mloss_pca_3\u001b[0m\u001b[0;34m)\u001b[0m\u001b[0;34m\u001b[0m\u001b[0;34m\u001b[0m\u001b[0m\n\u001b[1;32m      8\u001b[0m \u001b[0;34m\u001b[0m\u001b[0m\n\u001b[0;32m----> 9\u001b[0;31m \u001b[0max2\u001b[0m\u001b[0;34m.\u001b[0m\u001b[0mtitle\u001b[0m\u001b[0;34m(\u001b[0m\u001b[0;34m'loss comparasion b/w PCA & NMF'\u001b[0m\u001b[0;34m)\u001b[0m\u001b[0;34m\u001b[0m\u001b[0;34m\u001b[0m\u001b[0m\n\u001b[0m\u001b[1;32m     10\u001b[0m \u001b[0;31m# compare loss b/w nmp & pca, scatterplot loss of these two\u001b[0m\u001b[0;34m\u001b[0m\u001b[0;34m\u001b[0m\u001b[0;34m\u001b[0m\u001b[0m\n",
      "\u001b[0;31mTypeError\u001b[0m: 'Text' object is not callable"
     ]
    },
    {
     "data": {
      "image/png": "[encoded data removed]",
      "text/plain": [
       "<Figure size 432x288 with 1 Axes>"
      ]
     },
     "metadata": {
      "needs_background": "light"
     },
     "output_type": "display_data"
    }
   ],
   "source": [
    "loss_nmf_3 = []\n",
    "loss_pca_3 = []\n",
    "for i in range(641):\n",
    "    loss_nmf_3.append(np.sqrt(np.mean(((W_3[i, :]@H_3)-dki_md_imp[i, :])**2)))\n",
    "    loss_pca_3.append(np.sqrt(np.mean(((x_3[i, :]@c_3)-dki_md_imp[i, :])**2)))\n",
    "fig2, ax2 = plt.subplots()\n",
    "ax2.scatter(loss_nmf_3, loss_pca_3)\n",
    "\n",
    "ax2.title('loss comparasion b/w PCA & NMF')\n",
    "# compare loss b/w nmp & pca, scatterplot loss of these two"
   ]
  },
  {
   "cell_type": "code",
   "execution_count": null,
   "id": "initial-armenia",
   "metadata": {},
   "outputs": [],
   "source": []
  },
  {
   "cell_type": "markdown",
   "id": "superior-trial",
   "metadata": {},
   "source": [
    "### NMF with 4 components"
   ]
  },
  {
   "cell_type": "code",
   "execution_count": 30,
   "id": "activated-jones",
   "metadata": {},
   "outputs": [
    {
     "name": "stderr",
     "output_type": "stream",
     "text": [
      "/srv/conda/envs/notebook/lib/python3.7/site-packages/sklearn/decomposition/_nmf.py:1077: ConvergenceWarning: Maximum number of iterations 200 reached. Increase it to improve convergence.\n",
      "  \" improve convergence.\" % max_iter, ConvergenceWarning)\n"
     ]
    }
   ],
   "source": [
    "from sklearn.decomposition import NMF\n",
    "model_4 = NMF(n_components=3, init='random', random_state=0)\n",
    "W_4 = model_4.fit_transform(dki_md_imp)\n",
    "H_4 = model_4.components_"
   ]
  },
  {
   "cell_type": "code",
   "execution_count": 31,
   "id": "latter-chess",
   "metadata": {},
   "outputs": [
    {
     "data": {
      "text/plain": [
       "(641, 3)"
      ]
     },
     "execution_count": 31,
     "metadata": {},
     "output_type": "execute_result"
    }
   ],
   "source": [
    "W_4.shape"
   ]
  },
  {
   "cell_type": "code",
   "execution_count": 32,
   "id": "complimentary-circulation",
   "metadata": {},
   "outputs": [
    {
     "data": {
      "text/plain": [
       "(3, 18)"
      ]
     },
     "execution_count": 32,
     "metadata": {},
     "output_type": "execute_result"
    }
   ],
   "source": [
    "H_4.shape"
   ]
  },
  {
   "cell_type": "markdown",
   "id": "alternate-marathon",
   "metadata": {},
   "source": [
    "### PCA with 4 components"
   ]
  },
  {
   "cell_type": "code",
   "execution_count": 33,
   "id": "greatest-beads",
   "metadata": {},
   "outputs": [],
   "source": [
    "\n",
    "#scaler = StandardScaler()\n",
    "pca_4 = PCA(n_components=2)\n",
    "#dki_fa_imp_nor = scaler.fit_transform(dki_fa_imp)\n",
    "x_4 = pca_4.fit_transform(dki_md_imp)"
   ]
  },
  {
   "cell_type": "code",
   "execution_count": 34,
   "id": "departmental-loading",
   "metadata": {},
   "outputs": [],
   "source": [
    "c_4 = pca_4.components_"
   ]
  },
  {
   "cell_type": "code",
   "execution_count": 35,
   "id": "adjacent-rainbow",
   "metadata": {},
   "outputs": [
    {
     "ename": "TypeError",
     "evalue": "'Text' object is not callable",
     "output_type": "error",
     "traceback": [
      "\u001b[0;31m---------------------------------------------------------------------------\u001b[0m",
      "\u001b[0;31mTypeError\u001b[0m                                 Traceback (most recent call last)",
      "\u001b[0;32m<ipython-input-35-91376aa96abe>\u001b[0m in \u001b[0;36m<module>\u001b[0;34m\u001b[0m\n\u001b[1;32m      7\u001b[0m \u001b[0max4\u001b[0m\u001b[0;34m.\u001b[0m\u001b[0mscatter\u001b[0m\u001b[0;34m(\u001b[0m\u001b[0mloss_nmf_4\u001b[0m\u001b[0;34m,\u001b[0m \u001b[0mloss_pca_4\u001b[0m\u001b[0;34m)\u001b[0m\u001b[0;34m\u001b[0m\u001b[0;34m\u001b[0m\u001b[0m\n\u001b[1;32m      8\u001b[0m \u001b[0;34m\u001b[0m\u001b[0m\n\u001b[0;32m----> 9\u001b[0;31m \u001b[0max4\u001b[0m\u001b[0;34m.\u001b[0m\u001b[0mtitle\u001b[0m\u001b[0;34m(\u001b[0m\u001b[0;34m'loss comparasion b/w PCA & NMF'\u001b[0m\u001b[0;34m)\u001b[0m\u001b[0;34m\u001b[0m\u001b[0;34m\u001b[0m\u001b[0m\n\u001b[0m\u001b[1;32m     10\u001b[0m \u001b[0;31m# compare loss b/w nmp & pca, scatterplot loss of these two\u001b[0m\u001b[0;34m\u001b[0m\u001b[0;34m\u001b[0m\u001b[0;34m\u001b[0m\u001b[0m\n",
      "\u001b[0;31mTypeError\u001b[0m: 'Text' object is not callable"
     ]
    },
    {
     "data": {
      "image/png": "[encoded data removed]",
      "text/plain": [
       "<Figure size 432x288 with 1 Axes>"
      ]
     },
     "metadata": {
      "needs_background": "light"
     },
     "output_type": "display_data"
    }
   ],
   "source": [
    "loss_nmf_4 = []\n",
    "loss_pca_4 = []\n",
    "for i in range(641):\n",
    "    loss_nmf_4.append(np.sqrt(np.mean(((W_4[i, :]@H_4)-dki_md_imp[i, :])**2)))\n",
    "    loss_pca_4.append(np.sqrt(np.mean(((x_4[i, :]@c_4)-dki_md_imp[i, :])**2)))\n",
    "fig4, ax4 = plt.subplots()\n",
    "ax4.scatter(loss_nmf_4, loss_pca_4)\n",
    "\n",
    "ax4.title('loss comparasion b/w PCA & NMF')\n",
    "# compare loss b/w nmp & pca, scatterplot loss of these two"
   ]
  },
  {
   "cell_type": "code",
   "execution_count": null,
   "id": "executive-desktop",
   "metadata": {},
   "outputs": [],
   "source": []
  }
 ],
 "metadata": {
  "kernelspec": {
   "display_name": "Python 3",
   "language": "python",
   "name": "python3"
  },
  "language_info": {
   "codemirror_mode": {
    "name": "ipython",
    "version": 3
   },
   "file_extension": ".py",
   "mimetype": "text/x-python",
   "name": "python",
   "nbconvert_exporter": "python",
   "pygments_lexer": "ipython3",
   "version": "3.7.10"
  }
 },
 "nbformat": 4,
 "nbformat_minor": 5
}
