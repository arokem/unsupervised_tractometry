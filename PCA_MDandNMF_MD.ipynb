{
 "cells": [
  {
   "cell_type": "code",
   "execution_count": null,
   "id": "smaller-palmer",
   "metadata": {},
   "outputs": [],
   "source": []
  },
  {
   "cell_type": "markdown",
   "id": "balanced-algeria",
   "metadata": {},
   "source": [
    "### Taking average of each bundle for dki_md"
   ]
  },
  {
   "cell_type": "code",
   "execution_count": null,
   "id": "biological-nevada",
   "metadata": {},
   "outputs": [],
   "source": [
    "import afqinsight as ai \n",
    "import numpy as np\n",
    "import matplotlib.pyplot as plt\n",
    "import pandas as pd\n"
   ]
  },
  {
   "cell_type": "code",
   "execution_count": null,
   "id": "historical-atlanta",
   "metadata": {},
   "outputs": [],
   "source": [
    "from numpy import nanmean"
   ]
  },
  {
   "cell_type": "code",
   "execution_count": null,
   "id": "incorporate-worship",
   "metadata": {},
   "outputs": [],
   "source": [
    "nodes = pd.read_csv('combined_tract_profiles.csv')"
   ]
  },
  {
   "cell_type": "code",
   "execution_count": null,
   "id": "beneficial-still",
   "metadata": {},
   "outputs": [],
   "source": [
    "buddles = sorted(list(set(nodes[\"tractID\"])))"
   ]
  },
  {
   "cell_type": "code",
   "execution_count": null,
   "id": "bottom-genome",
   "metadata": {},
   "outputs": [],
   "source": [
    "node_avg = nodes.groupby(['tractID', 'subjectID']).agg(nanmean)"
   ]
  },
  {
   "cell_type": "code",
   "execution_count": null,
   "id": "impressed-greek",
   "metadata": {},
   "outputs": [],
   "source": [
    "dki_md = pd.merge(node_avg.loc[\"ARC_L\", :], node_avg.loc[\"ARC_R\", :], on=\"subjectID\", how=\"outer\")[[\"dki_md_x\", \"dki_md_y\"]]"
   ]
  },
  {
   "cell_type": "code",
   "execution_count": null,
   "id": "scientific-gossip",
   "metadata": {},
   "outputs": [],
   "source": [
    "dki_md = dki_md.rename(columns={\"dki_md_x\": \"ARC_L\", \"dki_md_y\": \"ARC_R\"})"
   ]
  },
  {
   "cell_type": "code",
   "execution_count": null,
   "id": "embedded-panic",
   "metadata": {},
   "outputs": [],
   "source": [
    "for bundle in buddles[2:]:\n",
    "    dki_md = pd.merge(dki_md, node_avg.loc[bundle, \"dki_md\"], on=\"subjectID\", how=\"outer\").rename(columns={\"dki_md\": bundle})"
   ]
  },
  {
   "cell_type": "code",
   "execution_count": null,
   "id": "ordinary-cooperative",
   "metadata": {},
   "outputs": [],
   "source": [
    "df = pd.read_csv('participant_data.tsv', sep = '\\t')"
   ]
  },
  {
   "cell_type": "code",
   "execution_count": null,
   "id": "alien-semiconductor",
   "metadata": {},
   "outputs": [],
   "source": [
    "all_data = pd.merge(dki_md, df, left_on=\"subjectID\", right_on=\"Observations\", how=\"outer\")"
   ]
  },
  {
   "cell_type": "code",
   "execution_count": null,
   "id": "maritime-tunnel",
   "metadata": {},
   "outputs": [],
   "source": [
    "from sklearn.impute import SimpleImputer\n",
    "imputer = SimpleImputer()\n",
    "dki_md_imp = imputer.fit_transform(dki_md)"
   ]
  },
  {
   "cell_type": "code",
   "execution_count": null,
   "id": "according-stamp",
   "metadata": {},
   "outputs": [],
   "source": []
  },
  {
   "cell_type": "markdown",
   "id": "operating-following",
   "metadata": {},
   "source": [
    "### NMF with 2 components"
   ]
  },
  {
   "cell_type": "code",
   "execution_count": null,
   "id": "upper-health",
   "metadata": {},
   "outputs": [],
   "source": [
    "from sklearn.decomposition import NMF\n",
    "model = NMF(n_components=2, init='random', random_state=0)\n",
    "W = model.fit_transform(dki_md_imp)\n",
    "H = model.components_"
   ]
  },
  {
   "cell_type": "markdown",
   "id": "sunrise-cologne",
   "metadata": {},
   "source": [
    "### PCA with 2 components"
   ]
  },
  {
   "cell_type": "code",
   "execution_count": null,
   "id": "interior-prairie",
   "metadata": {},
   "outputs": [],
   "source": [
    "from sklearn.decomposition import PCA\n",
    "from sklearn.preprocessing import StandardScaler\n",
    "#scaler = StandardScaler()\n",
    "pca_2 = PCA(n_components=2)\n",
    "#dki_fa_imp_nor = scaler.fit_transform(dki_fa_imp)\n",
    "x_2 = pca_2.fit_transform(dki_md_imp)"
   ]
  },
  {
   "cell_type": "code",
   "execution_count": null,
   "id": "pregnant-brake",
   "metadata": {},
   "outputs": [],
   "source": [
    "c = pca_2.components_"
   ]
  },
  {
   "cell_type": "code",
   "execution_count": null,
   "id": "comprehensive-thompson",
   "metadata": {},
   "outputs": [],
   "source": [
    "loss_nmf_2 = []\n",
    "loss_pca_2 = []\n",
    "for i in range(641):\n",
    "    loss_nmf_2.append(np.sqrt(np.mean(((W[i, :]@H)-dki_md_imp[i, :])**2)))\n",
    "    loss_pca_2.append(np.sqrt(np.mean(((x_2[i, :]@c)-dki_md_imp[i, :])**2)))\n",
    "fig1, ax1 = plt.subplots()\n",
    "ax1.scatter(loss_nmf_2, loss_pca_2)\n",
    "\n",
    "ax1.title\n",
    "# compare loss b/w nmp & pca, scatterplot loss of these two"
   ]
  },
  {
   "cell_type": "code",
   "execution_count": null,
   "id": "fallen-charity",
   "metadata": {},
   "outputs": [],
   "source": []
  },
  {
   "cell_type": "markdown",
   "id": "local-shadow",
   "metadata": {},
   "source": [
    "### NMF with 3 components"
   ]
  },
  {
   "cell_type": "code",
   "execution_count": null,
   "id": "contrary-fairy",
   "metadata": {},
   "outputs": [],
   "source": [
    "from sklearn.decomposition import NMF\n",
    "model_3 = NMF(n_components=3, init='random', random_state=0)\n",
    "W_3 = model_3.fit_transform(dki_md_imp)\n",
    "H_3 = model_3.components_"
   ]
  },
  {
   "cell_type": "markdown",
   "id": "opposed-brazilian",
   "metadata": {},
   "source": [
    "### PCA with 3 components"
   ]
  },
  {
   "cell_type": "code",
   "execution_count": null,
   "id": "coral-sponsorship",
   "metadata": {},
   "outputs": [],
   "source": [
    "\n",
    "#scaler = StandardScaler()\n",
    "pca_3 = PCA(n_components=2)\n",
    "#dki_fa_imp_nor = scaler.fit_transform(dki_fa_imp)\n",
    "x_3 = pca_3.fit_transform(dki_md_imp)"
   ]
  },
  {
   "cell_type": "code",
   "execution_count": null,
   "id": "enhanced-massachusetts",
   "metadata": {},
   "outputs": [],
   "source": [
    "c_3 = pca_3.components_"
   ]
  },
  {
   "cell_type": "code",
   "execution_count": null,
   "id": "talented-updating",
   "metadata": {},
   "outputs": [],
   "source": [
    "loss_nmf_3 = []\n",
    "loss_pca_3 = []\n",
    "for i in range(641):\n",
    "    loss_nmf_3.append(np.sqrt(np.mean(((W_3[i, :]@H_3)-dki_md_imp[i, :])**2)))\n",
    "    loss_pca_3.append(np.sqrt(np.mean(((x_3[i, :]@c_3)-dki_md_imp[i, :])**2)))\n",
    "fig2, ax2 = plt.subplots()\n",
    "ax2.scatter(loss_nmf_3, loss_pca_3)\n",
    "\n",
    "ax2.title('loss comparasion b/w PCA & NMF')\n",
    "# compare loss b/w nmp & pca, scatterplot loss of these two"
   ]
  },
  {
   "cell_type": "code",
   "execution_count": null,
   "id": "duplicate-affiliation",
   "metadata": {},
   "outputs": [],
   "source": []
  },
  {
   "cell_type": "markdown",
   "id": "antique-desire",
   "metadata": {},
   "source": [
    "### NMF with 4 components"
   ]
  },
  {
   "cell_type": "code",
   "execution_count": null,
   "id": "infrared-headquarters",
   "metadata": {},
   "outputs": [],
   "source": [
    "from sklearn.decomposition import NMF\n",
    "model_4 = NMF(n_components=3, init='random', random_state=0)\n",
    "W_4 = model_4.fit_transform(dki_md_imp)\n",
    "H_4 = model_4.components_"
   ]
  },
  {
   "cell_type": "code",
   "execution_count": null,
   "id": "hungry-expert",
   "metadata": {},
   "outputs": [],
   "source": [
    "W_4.shape"
   ]
  },
  {
   "cell_type": "code",
   "execution_count": null,
   "id": "patient-triangle",
   "metadata": {},
   "outputs": [],
   "source": [
    "H_4.shape"
   ]
  },
  {
   "cell_type": "markdown",
   "id": "purple-hughes",
   "metadata": {},
   "source": [
    "### PCA with 4 components"
   ]
  },
  {
   "cell_type": "code",
   "execution_count": null,
   "id": "verified-graham",
   "metadata": {},
   "outputs": [],
   "source": [
    "\n",
    "#scaler = StandardScaler()\n",
    "pca_4 = PCA(n_components=2)\n",
    "#dki_fa_imp_nor = scaler.fit_transform(dki_fa_imp)\n",
    "x_4 = pca_4.fit_transform(dki_md_imp)"
   ]
  },
  {
   "cell_type": "code",
   "execution_count": null,
   "id": "narrow-method",
   "metadata": {},
   "outputs": [],
   "source": [
    "c_4 = pca_4.components_"
   ]
  },
  {
   "cell_type": "code",
   "execution_count": null,
   "id": "dated-question",
   "metadata": {},
   "outputs": [],
   "source": [
    "loss_nmf_4 = []\n",
    "loss_pca_4 = []\n",
    "for i in range(641):\n",
    "    loss_nmf_4.append(np.sqrt(np.mean(((W_4[i, :]@H_4)-dki_md_imp[i, :])**2)))\n",
    "    loss_pca_4.append(np.sqrt(np.mean(((x_4[i, :]@c_4)-dki_md_imp[i, :])**2)))\n",
    "fig4, ax4 = plt.subplots()\n",
    "ax4.scatter(loss_nmf_4, loss_pca_4)\n",
    "\n",
    "ax4.title('loss comparasion b/w PCA & NMF')\n",
    "# compare loss b/w nmp & pca, scatterplot loss of these two"
   ]
  },
  {
   "cell_type": "code",
   "execution_count": null,
   "id": "united-italian",
   "metadata": {},
   "outputs": [],
   "source": []
  }
 ],
 "metadata": {
  "kernelspec": {
   "display_name": "Python 3",
   "language": "python",
   "name": "python3"
  },
  "language_info": {
   "codemirror_mode": {
    "name": "ipython",
    "version": 3
   },
   "file_extension": ".py",
   "mimetype": "text/x-python",
   "name": "python",
   "nbconvert_exporter": "python",
   "pygments_lexer": "ipython3",
   "version": "3.7.10"
  }
 },
 "nbformat": 4,
 "nbformat_minor": 5
}
