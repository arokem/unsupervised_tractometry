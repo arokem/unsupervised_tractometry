{
 "cells": [
  {
   "cell_type": "code",
   "execution_count": null,
   "id": "black-identity",
   "metadata": {},
   "outputs": [],
   "source": [
    "import seaborn as sns\n",
    "import pandas as pd"
   ]
  },
  {
   "cell_type": "code",
   "execution_count": null,
   "id": "welcome-convergence",
   "metadata": {},
   "outputs": [],
   "source": [
    "import afqinsight as ai \n",
    "import numpy as np\n",
    "import matplotlib.pyplot as plt\n",
    "import pandas as pd\n"
   ]
  },
  {
   "cell_type": "code",
   "execution_count": null,
   "id": "hindu-equality",
   "metadata": {},
   "outputs": [],
   "source": [
    "from numpy import nanmean"
   ]
  },
  {
   "cell_type": "code",
   "execution_count": null,
   "id": "protected-clone",
   "metadata": {},
   "outputs": [],
   "source": [
    "nodes = pd.read_csv('combined_tract_profiles.csv')"
   ]
  },
  {
   "cell_type": "code",
   "execution_count": null,
   "id": "naughty-negative",
   "metadata": {},
   "outputs": [],
   "source": [
    "buddles = sorted(list(set(nodes[\"tractID\"])))"
   ]
  },
  {
   "cell_type": "code",
   "execution_count": null,
   "id": "mediterranean-omaha",
   "metadata": {},
   "outputs": [],
   "source": [
    "buddles"
   ]
  },
  {
   "cell_type": "code",
   "execution_count": null,
   "id": "educated-experience",
   "metadata": {},
   "outputs": [],
   "source": [
    "node_avg = nodes.groupby(['tractID', 'subjectID']).agg(nanmean)"
   ]
  },
  {
   "cell_type": "code",
   "execution_count": null,
   "id": "shared-recovery",
   "metadata": {},
   "outputs": [],
   "source": [
    "dki_md = pd.merge(node_avg.loc[\"ARC_L\", :], node_avg.loc[\"ARC_R\", :], on=\"subjectID\", how=\"outer\")[[\"dki_md_x\", \"dki_md_y\"]]"
   ]
  },
  {
   "cell_type": "code",
   "execution_count": null,
   "id": "serial-darkness",
   "metadata": {},
   "outputs": [],
   "source": [
    "dki_md = dki_md.rename(columns={\"dki_md_x\": \"ARC_L\", \"dki_md_y\": \"ARC_R\"})"
   ]
  },
  {
   "cell_type": "code",
   "execution_count": null,
   "id": "handed-infection",
   "metadata": {},
   "outputs": [],
   "source": [
    "for bundle in buddles[2:]:\n",
    "    dki_md = pd.merge(dki_md, node_avg.loc[bundle, \"dki_md\"], on=\"subjectID\", how=\"outer\").rename(columns={\"dki_md\": bundle})"
   ]
  },
  {
   "cell_type": "code",
   "execution_count": null,
   "id": "stable-female",
   "metadata": {},
   "outputs": [],
   "source": [
    "from sklearn.impute import SimpleImputer\n",
    "imputer = SimpleImputer()\n",
    "dki_md_imp = imputer.fit_transform(dki_md)"
   ]
  },
  {
   "cell_type": "code",
   "execution_count": null,
   "id": "warming-native",
   "metadata": {},
   "outputs": [],
   "source": [
    "dki_md_imp_df = pd.DataFrame(dki_md_imp, columns = buddles)"
   ]
  },
  {
   "cell_type": "code",
   "execution_count": null,
   "id": "assured-drink",
   "metadata": {},
   "outputs": [],
   "source": [
    "# df = sns.load_dataset(dki_md_imp)\n",
    "sns.clustermap(dki_md_imp_df)"
   ]
  },
  {
   "cell_type": "markdown",
   "id": "muslim-gazette",
   "metadata": {},
   "source": [
    "## FA"
   ]
  },
  {
   "cell_type": "code",
   "execution_count": null,
   "id": "recognized-folder",
   "metadata": {},
   "outputs": [],
   "source": []
  },
  {
   "cell_type": "code",
   "execution_count": null,
   "id": "diagnostic-palmer",
   "metadata": {},
   "outputs": [],
   "source": [
    "dki_fa = pd.merge(node_avg.loc[\"ARC_L\", :], node_avg.loc[\"ARC_R\", :], on=\"subjectID\", how=\"outer\")[[\"dki_fa_x\", \"dki_fa_y\"]]"
   ]
  },
  {
   "cell_type": "code",
   "execution_count": null,
   "id": "nearby-holder",
   "metadata": {},
   "outputs": [],
   "source": [
    "dki_fa = dki_fa.rename(columns={\"dki_fa_x\": \"ARC_L\", \"dki_fa_y\": \"ARC_R\"})"
   ]
  },
  {
   "cell_type": "code",
   "execution_count": null,
   "id": "extended-hawaii",
   "metadata": {},
   "outputs": [],
   "source": [
    "for bundle in buddles[2:]:\n",
    "    dki_fa = pd.merge(dki_fa, node_avg.loc[bundle, \"dki_fa\"], on=\"subjectID\", how=\"outer\").rename(columns={\"dki_fa\": bundle})"
   ]
  },
  {
   "cell_type": "code",
   "execution_count": null,
   "id": "silent-clinton",
   "metadata": {},
   "outputs": [],
   "source": [
    "from sklearn.impute import SimpleImputer\n",
    "imputer = SimpleImputer()\n",
    "dki_fa_imp = imputer.fit_transform(dki_fa)"
   ]
  },
  {
   "cell_type": "code",
   "execution_count": null,
   "id": "flexible-joshua",
   "metadata": {},
   "outputs": [],
   "source": []
  },
  {
   "cell_type": "code",
   "execution_count": null,
   "id": "academic-retirement",
   "metadata": {},
   "outputs": [],
   "source": [
    "dki_fa_imp_df = pd.DataFrame(dki_fa_imp, columns = buddles)"
   ]
  },
  {
   "cell_type": "code",
   "execution_count": null,
   "id": "executive-basic",
   "metadata": {},
   "outputs": [],
   "source": [
    "# df = sns.load_dataset(dki_md_imp)\n",
    "sns.clustermap(dki_fa_imp_df)"
   ]
  },
  {
   "cell_type": "code",
   "execution_count": null,
   "id": "excited-checkout",
   "metadata": {},
   "outputs": [],
   "source": []
  }
 ],
 "metadata": {
  "kernelspec": {
   "display_name": "Python 3",
   "language": "python",
   "name": "python3"
  },
  "language_info": {
   "codemirror_mode": {
    "name": "ipython",
    "version": 3
   },
   "file_extension": ".py",
   "mimetype": "text/x-python",
   "name": "python",
   "nbconvert_exporter": "python",
   "pygments_lexer": "ipython3",
   "version": "3.7.10"
  }
 },
 "nbformat": 4,
 "nbformat_minor": 5
}
