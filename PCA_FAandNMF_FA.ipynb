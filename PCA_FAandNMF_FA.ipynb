{
 "cells": [
  {
   "cell_type": "markdown",
   "id": "artistic-buying",
   "metadata": {},
   "source": [
    "### Taking average of each bundle for dki_fa"
   ]
  },
  {
   "cell_type": "code",
   "execution_count": null,
   "id": "champion-reach",
   "metadata": {},
   "outputs": [],
   "source": [
    "import afqinsight as ai \n",
    "import numpy as np\n",
    "import matplotlib.pyplot as plt\n",
    "import pandas as pd"
   ]
  },
  {
   "cell_type": "code",
   "execution_count": null,
   "id": "prepared-earth",
   "metadata": {},
   "outputs": [],
   "source": [
    "nodes = pd.read_csv('combined_tract_profiles.csv')"
   ]
  },
  {
   "cell_type": "code",
   "execution_count": null,
   "id": "generous-response",
   "metadata": {},
   "outputs": [],
   "source": [
    "buddles = sorted(list(set(nodes[\"tractID\"])))\n",
    "buddles"
   ]
  },
  {
   "cell_type": "code",
   "execution_count": null,
   "id": "alien-wilderness",
   "metadata": {},
   "outputs": [],
   "source": [
    "len(nodes)/100"
   ]
  },
  {
   "cell_type": "code",
   "execution_count": null,
   "id": "caring-journal",
   "metadata": {},
   "outputs": [],
   "source": [
    "subject = set(nodes['subjectID'])\n",
    "subject_sorted = sorted(list(subject))\n",
    "node_avg = np.zeros((len(subject), 18)) "
   ]
  },
  {
   "cell_type": "code",
   "execution_count": null,
   "id": "bearing-distance",
   "metadata": {},
   "outputs": [],
   "source": [
    "len(subject_sorted)"
   ]
  },
  {
   "cell_type": "code",
   "execution_count": null,
   "id": "rural-recruitment",
   "metadata": {},
   "outputs": [],
   "source": [
    "from numpy import nanmean"
   ]
  },
  {
   "cell_type": "code",
   "execution_count": null,
   "id": "virtual-undergraduate",
   "metadata": {},
   "outputs": [],
   "source": [
    "node_avg = nodes.groupby(['tractID', 'subjectID']).agg(nanmean)"
   ]
  },
  {
   "cell_type": "code",
   "execution_count": null,
   "id": "revised-reasoning",
   "metadata": {},
   "outputs": [],
   "source": [
    "node_avg[\"dki_fa\"]"
   ]
  },
  {
   "cell_type": "code",
   "execution_count": null,
   "id": "after-thinking",
   "metadata": {},
   "outputs": [],
   "source": [
    "dki_fa = pd.merge(node_avg.loc[\"ARC_L\", :], node_avg.loc[\"ARC_R\", :], on=\"subjectID\", how=\"outer\")[[\"dki_fa_x\", \"dki_fa_y\"]]"
   ]
  },
  {
   "cell_type": "code",
   "execution_count": null,
   "id": "suspected-talent",
   "metadata": {},
   "outputs": [],
   "source": [
    "dki_fa = dki_fa.rename(columns={\"dki_fa_x\": \"ARC_L\", \"dki_fa_y\": \"ARC_R\"})"
   ]
  },
  {
   "cell_type": "code",
   "execution_count": null,
   "id": "banned-groove",
   "metadata": {},
   "outputs": [],
   "source": [
    "for bundle in buddles[2:]:\n",
    "    dki_fa = pd.merge(dki_fa, node_avg.loc[bundle, \"dki_fa\"], on=\"subjectID\", how=\"outer\").rename(columns={\"dki_fa\": bundle})"
   ]
  },
  {
   "cell_type": "code",
   "execution_count": null,
   "id": "social-chance",
   "metadata": {},
   "outputs": [],
   "source": [
    "df.columns"
   ]
  },
  {
   "cell_type": "code",
   "execution_count": null,
   "id": "medieval-trauma",
   "metadata": {},
   "outputs": [],
   "source": [
    "all_data = pd.merge(dki_fa, df, left_on=\"subjectID\", right_on=\"Observations\", how=\"outer\")"
   ]
  },
  {
   "cell_type": "code",
   "execution_count": null,
   "id": "unexpected-iceland",
   "metadata": {},
   "outputs": [],
   "source": []
  },
  {
   "cell_type": "code",
   "execution_count": null,
   "id": "aggressive-lecture",
   "metadata": {},
   "outputs": [],
   "source": [
    "\n",
    "for i in range(len(subject_sorted)):\n",
    "    for j in range(len(buddles)):\n",
    "        sub = subject_sorted[i]\n",
    "        bud = buddles[j]\n",
    "        nodes_sub_tract = nodes.loc[(nodes['subjectID'] == 'sub') & (nodes['tractID'] == 'bud')]\n",
    "        nodes_avg_sub_tract = pd.Series.mean(nodes_sub_tract['dki_fa'])\n",
    "        node_avg[i, j] = nodes_avg_sub_tract"
   ]
  },
  {
   "cell_type": "code",
   "execution_count": null,
   "id": "latin-pharmaceutical",
   "metadata": {},
   "outputs": [],
   "source": [
    "df=pd.read_csv('participant_data.tsv', sep='\\t')"
   ]
  },
  {
   "cell_type": "code",
   "execution_count": null,
   "id": "phantom-equality",
   "metadata": {},
   "outputs": [],
   "source": [
    "len(set(df['Observations']))"
   ]
  },
  {
   "cell_type": "code",
   "execution_count": null,
   "id": "lesser-sterling",
   "metadata": {},
   "outputs": [],
   "source": [
    "from sklearn.impute import SimpleImputer\n",
    "imputer = SimpleImputer()\n",
    "dki_fa_imp = imputer.fit_transform(dki_fa)"
   ]
  },
  {
   "cell_type": "code",
   "execution_count": null,
   "id": "split-pencil",
   "metadata": {},
   "outputs": [],
   "source": [
    "plt.plot(dki_fa_imp[:, :].T)\n",
    "plt.xlabel('18 bundles')\n",
    "plt.ylabel('averaged values')"
   ]
  },
  {
   "cell_type": "markdown",
   "id": "ongoing-member",
   "metadata": {},
   "source": [
    "### NMF with 2 components"
   ]
  },
  {
   "cell_type": "code",
   "execution_count": null,
   "id": "alleged-sensitivity",
   "metadata": {},
   "outputs": [],
   "source": [
    "from sklearn.decomposition import NMF\n",
    "model = NMF(n_components=2, init='random', random_state=0)\n",
    "W = model.fit_transform(dki_fa_imp)\n",
    "H = model.components_"
   ]
  },
  {
   "cell_type": "code",
   "execution_count": null,
   "id": "simple-modem",
   "metadata": {},
   "outputs": [],
   "source": [
    "W.shape\n",
    "#H.shape"
   ]
  },
  {
   "cell_type": "code",
   "execution_count": null,
   "id": "hazardous-embassy",
   "metadata": {},
   "outputs": [],
   "source": [
    "H.shape"
   ]
  },
  {
   "cell_type": "code",
   "execution_count": null,
   "id": "proper-toddler",
   "metadata": {},
   "outputs": [],
   "source": [
    "W@H"
   ]
  },
  {
   "cell_type": "code",
   "execution_count": null,
   "id": "vocational-gathering",
   "metadata": {},
   "outputs": [],
   "source": [
    "fig, ax = plt.subplots()\n",
    "ax.scatter(W[:, 0], W[:, 1], c = all_data.loc[:640, 'hand'], cmap = 'viridis')\n",
    "# add age as color\n"
   ]
  },
  {
   "cell_type": "code",
   "execution_count": null,
   "id": "hidden-decline",
   "metadata": {},
   "outputs": [],
   "source": [
    "fig, ax = plt.subplots()\n",
    "ax.plot(W[0, :]@H)\n",
    "ax.plot(node_avg_imp[0, :])"
   ]
  },
  {
   "cell_type": "code",
   "execution_count": null,
   "id": "amended-waste",
   "metadata": {},
   "outputs": [],
   "source": []
  },
  {
   "cell_type": "markdown",
   "id": "american-setting",
   "metadata": {},
   "source": [
    "### PCA with 2 components"
   ]
  },
  {
   "cell_type": "code",
   "execution_count": null,
   "id": "designing-witch",
   "metadata": {},
   "outputs": [],
   "source": [
    "from sklearn.decomposition import PCA\n",
    "from sklearn.preprocessing import StandardScaler\n",
    "#scaler = StandardScaler()\n",
    "pca_2 = PCA(n_components=2)\n",
    "#dki_fa_imp_nor = scaler.fit_transform(dki_fa_imp)\n",
    "x_2 = pca_2.fit_transform(dki_fa_imp)"
   ]
  },
  {
   "cell_type": "code",
   "execution_count": null,
   "id": "signed-classic",
   "metadata": {},
   "outputs": [],
   "source": [
    "c = pca_2.components_"
   ]
  },
  {
   "cell_type": "code",
   "execution_count": null,
   "id": "synthetic-history",
   "metadata": {},
   "outputs": [],
   "source": [
    "loss_nmf_2 = []\n",
    "loss_pca_2 = []\n",
    "for i in range(641):\n",
    "    loss_nmf_2.append(np.sqrt(np.mean(((W[i, :]@H)-dki_fa_imp[i, :])**2)))\n",
    "    loss_pca_2.append(np.sqrt(np.mean(((x_2[i, :]@c)-dki_fa_imp[i, :])**2)))\n",
    "fig1, ax1 = plt.subplots()\n",
    "ax1.scatter(loss_nmf_2, loss_pca_2)\n",
    "\n",
    "ax1.title\n",
    "# compare loss b/w nmp & pca, scatterplot loss of these two"
   ]
  },
  {
   "cell_type": "code",
   "execution_count": null,
   "id": "academic-england",
   "metadata": {},
   "outputs": [],
   "source": []
  },
  {
   "cell_type": "markdown",
   "id": "fifty-diploma",
   "metadata": {},
   "source": [
    "### NMF with 3 components"
   ]
  },
  {
   "cell_type": "code",
   "execution_count": null,
   "id": "productive-infrastructure",
   "metadata": {},
   "outputs": [],
   "source": [
    "from sklearn.decomposition import NMF\n",
    "model_3 = NMF(n_components=3, init='random', random_state=0)\n",
    "W_3 = model_3.fit_transform(dki_fa_imp)\n",
    "H_3 = model_3.components_"
   ]
  },
  {
   "cell_type": "code",
   "execution_count": null,
   "id": "guided-kingston",
   "metadata": {},
   "outputs": [],
   "source": [
    "W_3.shape"
   ]
  },
  {
   "cell_type": "code",
   "execution_count": null,
   "id": "forbidden-biology",
   "metadata": {},
   "outputs": [],
   "source": [
    "H_3.shape"
   ]
  },
  {
   "cell_type": "markdown",
   "id": "distinct-oakland",
   "metadata": {},
   "source": [
    "### PCA with 3 components"
   ]
  },
  {
   "cell_type": "code",
   "execution_count": null,
   "id": "widespread-billion",
   "metadata": {},
   "outputs": [],
   "source": [
    "\n",
    "#scaler = StandardScaler()\n",
    "pca_3 = PCA(n_components=2)\n",
    "#dki_fa_imp_nor = scaler.fit_transform(dki_fa_imp)\n",
    "x_3 = pca_3.fit_transform(dki_fa_imp)"
   ]
  },
  {
   "cell_type": "code",
   "execution_count": null,
   "id": "saving-eligibility",
   "metadata": {},
   "outputs": [],
   "source": [
    "c_3 = pca_3.components_"
   ]
  },
  {
   "cell_type": "code",
   "execution_count": null,
   "id": "independent-marshall",
   "metadata": {},
   "outputs": [],
   "source": [
    "loss_nmf_3 = []\n",
    "loss_pca_3 = []\n",
    "for i in range(641):\n",
    "    loss_nmf_3.append(np.sqrt(np.mean(((W_3[i, :]@H_3)-dki_fa_imp[i, :])**2)))\n",
    "    loss_pca_3.append(np.sqrt(np.mean(((x_3[i, :]@c_3)-dki_fa_imp[i, :])**2)))\n",
    "fig2, ax2 = plt.subplots()\n",
    "ax2.scatter(loss_nmf_3, loss_pca_3)\n",
    "\n",
    "ax2.title('loss comparasion b/w PCA & NMF')\n",
    "# compare loss b/w nmp & pca, scatterplot loss of these two"
   ]
  },
  {
   "cell_type": "code",
   "execution_count": null,
   "id": "committed-venice",
   "metadata": {},
   "outputs": [],
   "source": []
  },
  {
   "cell_type": "markdown",
   "id": "generic-helmet",
   "metadata": {},
   "source": [
    "### NMF with 4 components"
   ]
  },
  {
   "cell_type": "code",
   "execution_count": null,
   "id": "municipal-compression",
   "metadata": {},
   "outputs": [],
   "source": [
    "from sklearn.decomposition import NMF\n",
    "model_4 = NMF(n_components=3, init='random', random_state=0)\n",
    "W_4 = model_4.fit_transform(dki_fa_imp)\n",
    "H_4 = model_4.components_"
   ]
  },
  {
   "cell_type": "code",
   "execution_count": null,
   "id": "potential-aurora",
   "metadata": {},
   "outputs": [],
   "source": [
    "W_4.shape"
   ]
  },
  {
   "cell_type": "code",
   "execution_count": null,
   "id": "developing-initial",
   "metadata": {},
   "outputs": [],
   "source": [
    "H_4.shape"
   ]
  },
  {
   "cell_type": "markdown",
   "id": "pregnant-mitchell",
   "metadata": {},
   "source": [
    "### PCA with 4 components"
   ]
  },
  {
   "cell_type": "code",
   "execution_count": null,
   "id": "interim-cotton",
   "metadata": {},
   "outputs": [],
   "source": [
    "\n",
    "#scaler = StandardScaler()\n",
    "pca_4 = PCA(n_components=2)\n",
    "#dki_fa_imp_nor = scaler.fit_transform(dki_fa_imp)\n",
    "x_4 = pca_4.fit_transform(dki_fa_imp)"
   ]
  },
  {
   "cell_type": "code",
   "execution_count": null,
   "id": "english-spain",
   "metadata": {},
   "outputs": [],
   "source": [
    "c_4 = pca_4.components_"
   ]
  },
  {
   "cell_type": "code",
   "execution_count": null,
   "id": "protected-classics",
   "metadata": {},
   "outputs": [],
   "source": [
    "loss_nmf_4 = []\n",
    "loss_pca_4 = []\n",
    "for i in range(641):\n",
    "    loss_nmf_4.append(np.sqrt(np.mean(((W_4[i, :]@H_4)-dki_fa_imp[i, :])**2)))\n",
    "    loss_pca_4.append(np.sqrt(np.mean(((x_4[i, :]@c_4)-dki_fa_imp[i, :])**2)))\n",
    "fig4, ax4 = plt.subplots()\n",
    "ax4.scatter(loss_nmf_4, loss_pca_4)\n",
    "\n",
    "ax4.set_title('loss comparasion b/w PCA & NMF')\n",
    "# compare loss b/w nmp & pca, scatterplot loss of these two"
   ]
  },
  {
   "cell_type": "code",
   "execution_count": null,
   "id": "hispanic-elite",
   "metadata": {},
   "outputs": [],
   "source": []
  }
 ],
 "metadata": {
  "kernelspec": {
   "display_name": "Python 3",
   "language": "python",
   "name": "python3"
  },
  "language_info": {
   "codemirror_mode": {
    "name": "ipython",
    "version": 3
   },
   "file_extension": ".py",
   "mimetype": "text/x-python",
   "name": "python",
   "nbconvert_exporter": "python",
   "pygments_lexer": "ipython3",
   "version": "3.7.10"
  }
 },
 "nbformat": 4,
 "nbformat_minor": 5
}
