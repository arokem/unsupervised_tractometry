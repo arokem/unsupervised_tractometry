{
 "cells": [
  {
   "cell_type": "code",
   "execution_count": 1,
   "id": "exterior-relationship",
   "metadata": {},
   "outputs": [],
   "source": [
    "import afqinsight as ai "
   ]
  },
  {
   "cell_type": "code",
   "execution_count": 2,
   "id": "elect-correction",
   "metadata": {},
   "outputs": [],
   "source": [
    "X, y, groups, feature_names, subjects, classes = ai.load_afq_data('.', target_cols=[\"Gender\"])"
   ]
  },
  {
   "cell_type": "code",
   "execution_count": 3,
   "id": "western-receipt",
   "metadata": {},
   "outputs": [
    {
     "data": {
      "text/plain": [
       "(77, 10000)"
      ]
     },
     "execution_count": 3,
     "metadata": {},
     "output_type": "execute_result"
    }
   ],
   "source": [
    "X.shape"
   ]
  },
  {
   "cell_type": "code",
   "execution_count": 4,
   "id": "furnished-noise",
   "metadata": {},
   "outputs": [
    {
     "data": {
      "text/plain": [
       "array(['Male', 'Male', 'Female', 'Male', 'Male', 'Male', 'Male', 'Male',\n",
       "       'Female', 'Male', 'Female', 'Male', 'Female', 'Female', 'Female',\n",
       "       'Female', 'Female', 'Female', 'Male', 'Male', 'Female', 'Male',\n",
       "       'Male', 'Female', 'Male', 'Female', 'Male', 'Female', 'Male',\n",
       "       'Female', 'Male', 'Female', 'Female', 'Male', 'Male', 'Female',\n",
       "       'Female', 'Female', 'Male', 'Male', 'Male', 'Female', 'Male',\n",
       "       'Male', 'Female', 'Female', 'Male', 'Male', 'Male', 'Male',\n",
       "       'Female', 'Male', 'Female', 'Female', 'Female', 'Female', 'Female',\n",
       "       'Male', 'Male', 'Female', 'Female', 'Male', 'Female', 'Male',\n",
       "       'Male', 'Female', 'Female', 'Male', 'Female', 'Female', 'Male',\n",
       "       'Female', 'Male', nan, 'Male', 'Female', 'Male'], dtype=object)"
      ]
     },
     "execution_count": 4,
     "metadata": {},
     "output_type": "execute_result"
    }
   ],
   "source": [
    "y"
   ]
  },
  {
   "cell_type": "code",
   "execution_count": 5,
   "id": "rocky-african",
   "metadata": {},
   "outputs": [
    {
     "data": {
      "text/plain": [
       "100"
      ]
     },
     "execution_count": 5,
     "metadata": {},
     "output_type": "execute_result"
    }
   ],
   "source": [
    "len(groups)"
   ]
  },
  {
   "cell_type": "code",
   "execution_count": 6,
   "id": "heard-holder",
   "metadata": {},
   "outputs": [
    {
     "data": {
      "text/plain": [
       "10000"
      ]
     },
     "execution_count": 6,
     "metadata": {},
     "output_type": "execute_result"
    }
   ],
   "source": [
    "len(feature_names)"
   ]
  },
  {
   "cell_type": "code",
   "execution_count": 7,
   "id": "israeli-colon",
   "metadata": {},
   "outputs": [
    {
     "data": {
      "text/plain": [
       "{}"
      ]
     },
     "execution_count": 7,
     "metadata": {},
     "output_type": "execute_result"
    }
   ],
   "source": [
    "classes"
   ]
  },
  {
   "cell_type": "code",
   "execution_count": 8,
   "id": "pharmaceutical-prison",
   "metadata": {},
   "outputs": [],
   "source": [
    "import matplotlib.pyplot as plt"
   ]
  },
  {
   "cell_type": "code",
   "execution_count": 9,
   "id": "incredible-printer",
   "metadata": {},
   "outputs": [
    {
     "data": {
      "text/plain": [
       "10000"
      ]
     },
     "execution_count": 9,
     "metadata": {},
     "output_type": "execute_result"
    }
   ],
   "source": [
    "len(feature_names)"
   ]
  },
  {
   "cell_type": "code",
   "execution_count": 10,
   "id": "flexible-collective",
   "metadata": {},
   "outputs": [
    {
     "data": {
      "text/plain": [
       "[<matplotlib.lines.Line2D at 0x7fdfd7e02710>]"
      ]
     },
     "execution_count": 10,
     "metadata": {},
     "output_type": "execute_result"
    },
    {
     "data": {
      "image/png": "[encoded data removed]",
      "text/plain": [
       "<Figure size 432x288 with 1 Axes>"
      ]
     },
     "metadata": {
      "needs_background": "light"
     },
     "output_type": "display_data"
    }
   ],
   "source": [
    "plt.plot(X[0, :100])"
   ]
  },
  {
   "cell_type": "code",
   "execution_count": 11,
   "id": "integrated-accessory",
   "metadata": {},
   "outputs": [
    {
     "data": {
      "text/plain": [
       "[('ad', 'Left Uncinate', 0),\n",
       " ('ad', 'Left Uncinate', 1),\n",
       " ('ad', 'Left Uncinate', 2),\n",
       " ('ad', 'Left Uncinate', 3),\n",
       " ('ad', 'Left Uncinate', 4),\n",
       " ('ad', 'Left Uncinate', 5),\n",
       " ('ad', 'Left Uncinate', 6),\n",
       " ('ad', 'Left Uncinate', 7),\n",
       " ('ad', 'Left Uncinate', 8),\n",
       " ('ad', 'Left Uncinate', 9),\n",
       " ('ad', 'Left Uncinate', 10),\n",
       " ('ad', 'Left Uncinate', 11),\n",
       " ('ad', 'Left Uncinate', 12),\n",
       " ('ad', 'Left Uncinate', 13),\n",
       " ('ad', 'Left Uncinate', 14),\n",
       " ('ad', 'Left Uncinate', 15),\n",
       " ('ad', 'Left Uncinate', 16),\n",
       " ('ad', 'Left Uncinate', 17),\n",
       " ('ad', 'Left Uncinate', 18),\n",
       " ('ad', 'Left Uncinate', 19),\n",
       " ('ad', 'Left Uncinate', 20),\n",
       " ('ad', 'Left Uncinate', 21),\n",
       " ('ad', 'Left Uncinate', 22),\n",
       " ('ad', 'Left Uncinate', 23),\n",
       " ('ad', 'Left Uncinate', 24),\n",
       " ('ad', 'Left Uncinate', 25),\n",
       " ('ad', 'Left Uncinate', 26),\n",
       " ('ad', 'Left Uncinate', 27),\n",
       " ('ad', 'Left Uncinate', 28),\n",
       " ('ad', 'Left Uncinate', 29),\n",
       " ('ad', 'Left Uncinate', 30),\n",
       " ('ad', 'Left Uncinate', 31),\n",
       " ('ad', 'Left Uncinate', 32),\n",
       " ('ad', 'Left Uncinate', 33),\n",
       " ('ad', 'Left Uncinate', 34),\n",
       " ('ad', 'Left Uncinate', 35),\n",
       " ('ad', 'Left Uncinate', 36),\n",
       " ('ad', 'Left Uncinate', 37),\n",
       " ('ad', 'Left Uncinate', 38),\n",
       " ('ad', 'Left Uncinate', 39),\n",
       " ('ad', 'Left Uncinate', 40),\n",
       " ('ad', 'Left Uncinate', 41),\n",
       " ('ad', 'Left Uncinate', 42),\n",
       " ('ad', 'Left Uncinate', 43),\n",
       " ('ad', 'Left Uncinate', 44),\n",
       " ('ad', 'Left Uncinate', 45),\n",
       " ('ad', 'Left Uncinate', 46),\n",
       " ('ad', 'Left Uncinate', 47),\n",
       " ('ad', 'Left Uncinate', 48),\n",
       " ('ad', 'Left Uncinate', 49),\n",
       " ('ad', 'Left Uncinate', 50),\n",
       " ('ad', 'Left Uncinate', 51),\n",
       " ('ad', 'Left Uncinate', 52),\n",
       " ('ad', 'Left Uncinate', 53),\n",
       " ('ad', 'Left Uncinate', 54),\n",
       " ('ad', 'Left Uncinate', 55),\n",
       " ('ad', 'Left Uncinate', 56),\n",
       " ('ad', 'Left Uncinate', 57),\n",
       " ('ad', 'Left Uncinate', 58),\n",
       " ('ad', 'Left Uncinate', 59),\n",
       " ('ad', 'Left Uncinate', 60),\n",
       " ('ad', 'Left Uncinate', 61),\n",
       " ('ad', 'Left Uncinate', 62),\n",
       " ('ad', 'Left Uncinate', 63),\n",
       " ('ad', 'Left Uncinate', 64),\n",
       " ('ad', 'Left Uncinate', 65),\n",
       " ('ad', 'Left Uncinate', 66),\n",
       " ('ad', 'Left Uncinate', 67),\n",
       " ('ad', 'Left Uncinate', 68),\n",
       " ('ad', 'Left Uncinate', 69),\n",
       " ('ad', 'Left Uncinate', 70),\n",
       " ('ad', 'Left Uncinate', 71),\n",
       " ('ad', 'Left Uncinate', 72),\n",
       " ('ad', 'Left Uncinate', 73),\n",
       " ('ad', 'Left Uncinate', 74),\n",
       " ('ad', 'Left Uncinate', 75),\n",
       " ('ad', 'Left Uncinate', 76),\n",
       " ('ad', 'Left Uncinate', 77),\n",
       " ('ad', 'Left Uncinate', 78),\n",
       " ('ad', 'Left Uncinate', 79),\n",
       " ('ad', 'Left Uncinate', 80),\n",
       " ('ad', 'Left Uncinate', 81),\n",
       " ('ad', 'Left Uncinate', 82),\n",
       " ('ad', 'Left Uncinate', 83),\n",
       " ('ad', 'Left Uncinate', 84),\n",
       " ('ad', 'Left Uncinate', 85),\n",
       " ('ad', 'Left Uncinate', 86),\n",
       " ('ad', 'Left Uncinate', 87),\n",
       " ('ad', 'Left Uncinate', 88),\n",
       " ('ad', 'Left Uncinate', 89),\n",
       " ('ad', 'Left Uncinate', 90),\n",
       " ('ad', 'Left Uncinate', 91),\n",
       " ('ad', 'Left Uncinate', 92),\n",
       " ('ad', 'Left Uncinate', 93),\n",
       " ('ad', 'Left Uncinate', 94),\n",
       " ('ad', 'Left Uncinate', 95),\n",
       " ('ad', 'Left Uncinate', 96),\n",
       " ('ad', 'Left Uncinate', 97),\n",
       " ('ad', 'Left Uncinate', 98),\n",
       " ('ad', 'Left Uncinate', 99)]"
      ]
     },
     "execution_count": 11,
     "metadata": {},
     "output_type": "execute_result"
    }
   ],
   "source": [
    "feature_names[1000:1100]"
   ]
  },
  {
   "cell_type": "code",
   "execution_count": 12,
   "id": "tough-display",
   "metadata": {},
   "outputs": [
    {
     "data": {
      "text/plain": [
       "[<matplotlib.lines.Line2D at 0x7fdfd5cf6e90>]"
      ]
     },
     "execution_count": 12,
     "metadata": {},
     "output_type": "execute_result"
    },
    {
     "data": {
      "image/png": "[encoded data removed]",
      "text/plain": [
       "<Figure size 432x288 with 1 Axes>"
      ]
     },
     "metadata": {
      "needs_background": "light"
     },
     "output_type": "display_data"
    }
   ],
   "source": [
    "plt.plot(X[0, 1000:1100])"
   ]
  }
 ],
 "metadata": {
  "kernelspec": {
   "display_name": "Python 3",
   "language": "python",
   "name": "python3"
  },
  "language_info": {
   "codemirror_mode": {
    "name": "ipython",
    "version": 3
   },
   "file_extension": ".py",
   "mimetype": "text/x-python",
   "name": "python",
   "nbconvert_exporter": "python",
   "pygments_lexer": "ipython3",
   "version": "3.7.10"
  }
 },
 "nbformat": 4,
 "nbformat_minor": 5
}
